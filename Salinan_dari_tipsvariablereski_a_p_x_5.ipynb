{
  "nbformat": 4,
  "nbformat_minor": 0,
  "metadata": {
    "colab": {
      "provenance": [],
      "authorship_tag": "ABX9TyO3A8M8xoqGUh7VFLxtXeNa",
      "include_colab_link": true
    },
    "kernelspec": {
      "name": "python3",
      "display_name": "Python 3"
    },
    "language_info": {
      "name": "python"
    }
  },
  "cells": [
    {
      "cell_type": "markdown",
      "metadata": {
        "id": "view-in-github",
        "colab_type": "text"
      },
      "source": [
        "<a href=\"https://colab.research.google.com/github/reskiandaruputra2025-pixel/KKA-X-SEMESTER-1/blob/main/Salinan_dari_tipsvariablereski_a_p_x_5.ipynb\" target=\"_parent\"><img src=\"https://colab.research.google.com/assets/colab-badge.svg\" alt=\"Open In Colab\"/></a>"
      ]
    },
    {
      "cell_type": "markdown",
      "source": [
        "nama:reski andaru putra\n",
        "\n",
        "kelas:x-5\n",
        "\n",
        "no.absen:31"
      ],
      "metadata": {
        "id": "99XIphyk1fu5"
      }
    },
    {
      "cell_type": "markdown",
      "source": [
        "#konsep dasar variable"
      ],
      "metadata": {
        "id": "e1D0maXP17Vg"
      }
    },
    {
      "cell_type": "code",
      "source": [
        "print('reskiandaruputra.2025@gmail.com')\n",
        "print('reskiandaruputra.2025@gmail.com')\n",
        "print('reskiandaruputra.2025@gmail.com')"
      ],
      "metadata": {
        "colab": {
          "base_uri": "https://localhost:8080/"
        },
        "id": "q0imsSh82FTa",
        "outputId": "710f5bf8-2a00-4b1b-aebc-ce9a36318962"
      },
      "execution_count": null,
      "outputs": [
        {
          "output_type": "stream",
          "name": "stdout",
          "text": [
            "reskiandaruputra.2025@gmail.com\n",
            "reskiandaruputra.2025@gmail.com\n",
            "reskiandaruputra.2025@gmail.com\n"
          ]
        }
      ]
    },
    {
      "cell_type": "code",
      "source": [
        "email_user_1 = 'reskiputra77@gmail.com'\n",
        "print(email_user_1)"
      ],
      "metadata": {
        "colab": {
          "base_uri": "https://localhost:8080/"
        },
        "id": "tKUCL9Rr3ia_",
        "outputId": "53602db6-ceeb-4037-d2b1-aee0d048a083"
      },
      "execution_count": null,
      "outputs": [
        {
          "output_type": "stream",
          "name": "stdout",
          "text": [
            "reskiputra77@gmail.com\n"
          ]
        }
      ]
    }
  ]
}